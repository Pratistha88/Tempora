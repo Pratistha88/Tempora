{
 "cells": [
  {
   "cell_type": "markdown",
   "id": "f2c968df-dc69-47c6-9d2e-18a7ae42a545",
   "metadata": {},
   "source": [
    "# Tempora - Climate Analysis "
   ]
  },
  {
   "cell_type": "markdown",
   "id": "1a51a904-2e13-44d1-bb18-30139cccffd8",
   "metadata": {},
   "source": [
    "Himesh Dulal (20), Avipsa Parajuli (37), Aayusha Shrestha (50), Pratistha Thapa (57), Abhinav Lamsal (68)"
   ]
  },
  {
   "cell_type": "markdown",
   "id": "dfb4e5fc-8ced-4c58-ae1b-39bde7899886",
   "metadata": {},
   "source": [
    "## <b>Summary </b>\n",
    "The project uses numerical methods like Interpolation, Linear Regression, Polynomial Fit + Extrapolation and Newton Raphson Method for analysis and predicting the climate data of data set provided as per csv."
   ]
  },
  {
   "cell_type": "markdown",
   "id": "f85268dd-ae1c-4543-92cb-e58d52752d92",
   "metadata": {},
   "source": [
    "## 1. Loading the CSV Data"
   ]
  },
  {
   "cell_type": "code",
   "execution_count": 19,
   "id": "7a0e84ba-2f46-473b-b225-b351447307ca",
   "metadata": {
    "editable": true,
    "slideshow": {
     "slide_type": ""
    },
    "tags": []
   },
   "outputs": [],
   "source": [
    "import pandas as pd\n",
    "\n",
    "def load_and_prepare_data(filepath):\n",
    "    df = pd.read_csv(filepath)\n",
    "    df = df.sort_values(['Year', 'Month']).reset_index(drop=True)\n",
    "    return df"
   ]
  },
  {
   "cell_type": "code",
   "execution_count": 20,
   "id": "cc0cdd97-89fc-4788-9fff-b1eb4d4cea9a",
   "metadata": {},
   "outputs": [],
   "source": [
    "def linear_interpolate_series(series):\n",
    "    result = series.copy()\n",
    "    for i in range(len(series)):\n",
    "        if pd.isna(series[i]):\n",
    "            # Find previous known value\n",
    "            prev_index = i - 1\n",
    "            while prev_index >= 0 and pd.isna(series[prev_index]):\n",
    "                prev_index -= 1\n",
    "\n",
    "            # Find next known value\n",
    "            next_index = i + 1\n",
    "            while next_index < len(series) and pd.isna(series[next_index]):\n",
    "                next_index += 1\n",
    "\n",
    "            if prev_index >= 0 and next_index < len(series):\n",
    "                # Perform linear interpolation\n",
    "                x0, y0 = prev_index, series[prev_index]\n",
    "                x1, y1 = next_index, series[next_index]\n",
    "                x = i\n",
    "                result[i] = y0 + (x - x0) * (y1 - y0) / (x1 - x0)\n",
    "\n",
    "    return result"
   ]
  },
  {
   "cell_type": "code",
   "execution_count": 21,
   "id": "6067bd02-beff-4661-afd9-7ecf65254840",
   "metadata": {},
   "outputs": [],
   "source": [
    "def clean_data(df):\n",
    "    print(\"Data with Missing Values:\")\n",
    "    print(df[['Year', 'Month', 'Temp_2m', 'Precip']][df['Temp_2m'].isna() | df['Precip'].isna()])\n",
    "\n",
    "    cleaned_df = df.copy()\n",
    "\n",
    "    cleaned_df['Temp_2m'] = linear_interpolate_series(cleaned_df['Temp_2m'])\n",
    "    cleaned_df['Precip'] = linear_interpolate_series(cleaned_df['Precip'])\n",
    "\n",
    "    print(\"\\n After Cleaning:\")\n",
    "    print(cleaned_df[['Year', 'Month', 'Temp_2m', 'Precip']])\n",
    "\n",
    "    # Plot before vs after\n",
    "    plt.figure(figsize=(12, 5))\n",
    "\n",
    "    plt.subplot(1, 2, 1)\n",
    "    plt.plot(df['Temp_2m'], label='Original Temp')\n",
    "    plt.plot(cleaned_df['Temp_2m'], label='Cleaned Temp', linestyle='--')\n",
    "    plt.title('Temperature - Before vs After Interpolation')\n",
    "    plt.legend()\n",
    "\n",
    "    plt.subplot(1, 2, 2)\n",
    "    plt.plot(df['Precip'], label='Original Rain')\n",
    "    plt.plot(cleaned_df['Precip'], label='Cleaned Rain', linestyle='--')\n",
    "    plt.title('Rainfall - Before vs After Interpolation')\n",
    "    plt.legend()\n",
    "\n",
    "    plt.tight_layout()\n",
    "    plt.show()\n",
    "\n",
    "    return cleaned_df"
   ]
  },
  {
   "cell_type": "code",
   "execution_count": 22,
   "id": "e22350ea-b2e6-4aa9-bd61-d26a1f820276",
   "metadata": {},
   "outputs": [
    {
     "name": "stdout",
     "output_type": "stream",
     "text": [
      "Data with Missing Values:\n",
      "     Year  Month    Temp_2m  Precip\n",
      "2    2000      3  14.473226     NaN\n",
      "6    2000      7        NaN  139.33\n",
      "9    2000     10        NaN     NaN\n",
      "15   2001      4        NaN    6.09\n",
      "24   2002      1        NaN   12.10\n",
      "30   2002      7        NaN     NaN\n",
      "55   2004      8        NaN     NaN\n",
      "58   2004     11  11.911667     NaN\n",
      "73   2006      2  13.719286     NaN\n",
      "77   2006      6  21.040000     NaN\n",
      "80   2006      9  19.235000     NaN\n",
      "88   2007      5  21.738710     NaN\n",
      "91   2007      8  20.660323     NaN\n",
      "93   2007     10  16.804839     NaN\n",
      "112  2009      6        NaN  107.11\n",
      "113  2009      7        NaN  219.02\n",
      "115  2009      9        NaN   54.11\n",
      "120  2010      2  11.110714     NaN\n",
      "125  2010      7  21.698387     NaN\n",
      "126  2010      8        NaN  341.30\n",
      "129  2010     11  13.663333     NaN\n",
      "137  2011      7        NaN  287.51\n",
      "156  2013      3  15.580000     NaN\n",
      "170  2014      6        NaN  235.00\n",
      "172  2014      8  20.816774     NaN\n",
      "182  2015      6        NaN  170.67\n",
      "190  2016      2  12.540000     NaN\n",
      "193  2016      5        NaN  110.01\n",
      "205  2017      5        NaN  126.04\n",
      "211  2017     11        NaN    0.05\n",
      "220  2018      8        NaN  253.58\n",
      "221  2018      9        NaN   64.85\n",
      "224  2018     12   9.553226     NaN\n",
      "\n",
      " After Cleaning:\n",
      "     Year  Month    Temp_2m   Precip\n",
      "0    2000      1   9.266452    0.890\n",
      "1    2000      2   9.134828    1.360\n",
      "2    2000      3  14.473226    3.555\n",
      "3    2000      4  20.670333    5.750\n",
      "4    2000      5  22.506452   58.190\n",
      "..    ...    ...        ...      ...\n",
      "232  2019      8  21.316774  192.120\n",
      "233  2019      9  19.507333  246.450\n",
      "234  2019     10  16.337419   22.580\n",
      "235  2019     11  13.881000   34.150\n",
      "236  2019     12   8.157419   26.430\n",
      "\n",
      "[237 rows x 4 columns]\n"
     ]
    },
    {
     "ename": "NameError",
     "evalue": "name 'plt' is not defined",
     "output_type": "error",
     "traceback": [
      "\u001b[31m---------------------------------------------------------------------------\u001b[39m",
      "\u001b[31mNameError\u001b[39m                                 Traceback (most recent call last)",
      "\u001b[36mCell\u001b[39m\u001b[36m \u001b[39m\u001b[32mIn[22]\u001b[39m\u001b[32m, line 1\u001b[39m\n\u001b[32m----> \u001b[39m\u001b[32m1\u001b[39m cleaned_df = \u001b[43mclean_data\u001b[49m\u001b[43m(\u001b[49m\u001b[43mdf\u001b[49m\u001b[43m)\u001b[49m\n",
      "\u001b[36mCell\u001b[39m\u001b[36m \u001b[39m\u001b[32mIn[21]\u001b[39m\u001b[32m, line 14\u001b[39m, in \u001b[36mclean_data\u001b[39m\u001b[34m(df)\u001b[39m\n\u001b[32m     11\u001b[39m \u001b[38;5;28mprint\u001b[39m(cleaned_df[[\u001b[33m'\u001b[39m\u001b[33mYear\u001b[39m\u001b[33m'\u001b[39m, \u001b[33m'\u001b[39m\u001b[33mMonth\u001b[39m\u001b[33m'\u001b[39m, \u001b[33m'\u001b[39m\u001b[33mTemp_2m\u001b[39m\u001b[33m'\u001b[39m, \u001b[33m'\u001b[39m\u001b[33mPrecip\u001b[39m\u001b[33m'\u001b[39m]])\n\u001b[32m     13\u001b[39m \u001b[38;5;66;03m# Plot before vs after\u001b[39;00m\n\u001b[32m---> \u001b[39m\u001b[32m14\u001b[39m \u001b[43mplt\u001b[49m.figure(figsize=(\u001b[32m12\u001b[39m, \u001b[32m5\u001b[39m))\n\u001b[32m     16\u001b[39m plt.subplot(\u001b[32m1\u001b[39m, \u001b[32m2\u001b[39m, \u001b[32m1\u001b[39m)\n\u001b[32m     17\u001b[39m plt.plot(df[\u001b[33m'\u001b[39m\u001b[33mTemp_2m\u001b[39m\u001b[33m'\u001b[39m], label=\u001b[33m'\u001b[39m\u001b[33mOriginal Temp\u001b[39m\u001b[33m'\u001b[39m)\n",
      "\u001b[31mNameError\u001b[39m: name 'plt' is not defined"
     ]
    }
   ],
   "source": [
    "cleaned_df = clean_data(df)"
   ]
  },
  {
   "cell_type": "code",
   "execution_count": 23,
   "id": "ef0c5c47-9f27-43b9-9c61-a203ab0f8564",
   "metadata": {},
   "outputs": [],
   "source": [
    "def visualize_trends(df):\n",
    "    # Group by year\n",
    "    yearly_df = df.groupby('Year').agg({\n",
    "        'Temp_2m': 'mean',\n",
    "        'Precip': 'sum'\n",
    "    }).reset_index()\n",
    "\n",
    "    plt.figure(figsize=(10, 5))\n",
    "\n",
    "    plt.plot(yearly_df['Year'], yearly_df['Temp_2m'], color='orange', marker='o', label='Avg Temp (°C)')\n",
    "    plt.plot(yearly_df['Year'], yearly_df['Precip'], color='blue', marker='s', label='Total Rainfall (mm)')\n",
    "\n",
    "    plt.title('Climate Trends in Kathmandu (2000–2019)')\n",
    "    plt.xlabel('Year')\n",
    "    plt.ylabel('Value')\n",
    "    plt.grid(True)\n",
    "    plt.legend()\n",
    "    plt.tight_layout()\n",
    "    plt.show()\n"
   ]
  },
  {
   "cell_type": "code",
   "execution_count": 24,
   "id": "588a3e67-ef24-4ee3-9b9f-73a188ddfa58",
   "metadata": {},
   "outputs": [
    {
     "ename": "NameError",
     "evalue": "name 'cleaned_df' is not defined",
     "output_type": "error",
     "traceback": [
      "\u001b[31m---------------------------------------------------------------------------\u001b[39m",
      "\u001b[31mNameError\u001b[39m                                 Traceback (most recent call last)",
      "\u001b[36mCell\u001b[39m\u001b[36m \u001b[39m\u001b[32mIn[24]\u001b[39m\u001b[32m, line 1\u001b[39m\n\u001b[32m----> \u001b[39m\u001b[32m1\u001b[39m visualize_trends(\u001b[43mcleaned_df\u001b[49m)\n",
      "\u001b[31mNameError\u001b[39m: name 'cleaned_df' is not defined"
     ]
    }
   ],
   "source": [
    "visualize_trends(cleaned_df)"
   ]
  },
  {
   "cell_type": "code",
   "execution_count": 25,
   "id": "c03cedab-a9ad-47e5-9783-5c6222332691",
   "metadata": {},
   "outputs": [],
   "source": [
    "def compare_trends_by_year(df_original, df_cleaned):\n",
    "    # Group both datasets by year\n",
    "    yearly_orig = df_original.groupby('Year').agg({\n",
    "        'Temp_2m': 'mean',\n",
    "        'Precip': 'sum'\n",
    "    }).reset_index()\n",
    "\n",
    "    yearly_cleaned = df_cleaned.groupby('Year').agg({\n",
    "        'Temp_2m': 'mean',\n",
    "        'Precip': 'sum'\n",
    "    }).reset_index()\n",
    "\n",
    "    # Plot comparison\n",
    "    plt.figure(figsize=(12, 6))\n",
    "\n",
    "    # Temperature\n",
    "    plt.subplot(1, 2, 1)\n",
    "    plt.plot(yearly_orig['Year'], yearly_orig['Temp_2m'], label='Original Avg Temp', color='orange', marker='x')\n",
    "    plt.plot(yearly_cleaned['Year'], yearly_cleaned['Temp_2m'], label='Interpolated Avg Temp', color='green', linestyle='--', marker='o')\n",
    "    plt.title('Yearly Avg Temperature (2000–2019)')\n",
    "    plt.xlabel('Year')\n",
    "    plt.ylabel('Temperature (°C)')\n",
    "    plt.legend()\n",
    "    plt.grid(True)\n",
    "\n",
    "    # Rainfall\n",
    "    plt.subplot(1, 2, 2)\n",
    "    plt.plot(yearly_orig['Year'], yearly_orig['Precip'], label='Original Rainfall', color='blue', marker='x')\n",
    "    plt.plot(yearly_cleaned['Year'], yearly_cleaned['Precip'], label='Interpolated Rainfall', color='purple', linestyle='--', marker='o')\n",
    "    plt.title('Yearly Rainfall Totals (2000–2019)')\n",
    "    plt.xlabel('Year')\n",
    "    plt.ylabel('Rainfall (mm)')\n",
    "    plt.legend()\n",
    "    plt.grid(True)\n",
    "\n",
    "    plt.tight_layout()\n",
    "    plt.show()\n"
   ]
  },
  {
   "cell_type": "code",
   "execution_count": 26,
   "id": "6a35290f-2d4f-49b0-bf22-2f9e2fb292d4",
   "metadata": {},
   "outputs": [
    {
     "ename": "NameError",
     "evalue": "name 'cleaned_df' is not defined",
     "output_type": "error",
     "traceback": [
      "\u001b[31m---------------------------------------------------------------------------\u001b[39m",
      "\u001b[31mNameError\u001b[39m                                 Traceback (most recent call last)",
      "\u001b[36mCell\u001b[39m\u001b[36m \u001b[39m\u001b[32mIn[26]\u001b[39m\u001b[32m, line 1\u001b[39m\n\u001b[32m----> \u001b[39m\u001b[32m1\u001b[39m compare_trends_by_year(df, \u001b[43mcleaned_df\u001b[49m)\n",
      "\u001b[31mNameError\u001b[39m: name 'cleaned_df' is not defined"
     ]
    }
   ],
   "source": [
    "compare_trends_by_year(df, cleaned_df)"
   ]
  },
  {
   "cell_type": "code",
   "execution_count": 27,
   "id": "80b32d66-e099-4917-87ec-091f5dbcbd54",
   "metadata": {
    "scrolled": true
   },
   "outputs": [],
   "source": [
    "district=\"Kathmandu\"\n",
    "filepath=f\"./data/final_data/{district}.csv\"\n",
    "\n",
    "df = load_and_prepare_data(filepath)"
   ]
  },
  {
   "cell_type": "code",
   "execution_count": null,
   "id": "3634ca9c-bad3-46bf-bf1e-ea90b67203b2",
   "metadata": {},
   "outputs": [],
   "source": []
  }
 ],
 "metadata": {
  "kernelspec": {
   "display_name": "Python 3 (ipykernel)",
   "language": "python",
   "name": "python3"
  },
  "language_info": {
   "codemirror_mode": {
    "name": "ipython",
    "version": 3
   },
   "file_extension": ".py",
   "mimetype": "text/x-python",
   "name": "python",
   "nbconvert_exporter": "python",
   "pygments_lexer": "ipython3",
   "version": "3.13.5"
  }
 },
 "nbformat": 4,
 "nbformat_minor": 5
}
