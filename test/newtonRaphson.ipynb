{
 "cells": [
  {
   "cell_type": "markdown",
   "id": "7ad56685-e721-44c9-ad89-1139dcc715f0",
   "metadata": {},
   "source": [
    "# Newton Raphson' Method\n",
    "\n",
    "we'll take a simple expression and try to solve it using newton raphson method"
   ]
  },
  {
   "cell_type": "markdown",
   "id": "c31e649d-d109-46ad-9edd-0893c9c35b41",
   "metadata": {},
   "source": [
    "We define $$f(x) = x^2 - 2$$ for our Newton-Raphson example."
   ]
  },
  {
   "cell_type": "markdown",
   "id": "6c4e9c1e-a6e4-468a-97b9-fc48bc4c2538",
   "metadata": {},
   "source": [
    "The derivative of it\n",
    "$$ f'(x)= 2x $$"
   ]
  },
  {
   "cell_type": "markdown",
   "id": "c55abb84-563a-428b-bac4-50fcbdfbe661",
   "metadata": {},
   "source": [
    "Iteration Formula:\n",
    "$$\n",
    "x_{n+1} = x_n - \\frac{f(x_n)}{f'(x_n)}\n",
    "$$\n"
   ]
  },
  {
   "cell_type": "markdown",
   "id": "28cad01a",
   "metadata": {},
   "source": [
    "Initial guess $x_0 = 1$. \n",
    "\n",
    "Tolerance $tol = 0.0001$."
   ]
  },
  {
   "cell_type": "code",
   "execution_count": 8,
   "id": "f8628b81-e557-4d05-923b-f951e5a22bf4",
   "metadata": {},
   "outputs": [
    {
     "name": "stdout",
     "output_type": "stream",
     "text": [
      "Iteration 1: x = 1.5\n",
      "Iteration 2: x = 1.4166666666666667\n",
      "Iteration 3: x = 1.4142156862745099\n",
      "Iteration 4: x = 1.4142135623746899\n",
      "Converged to 1.4142135623746899 after 4 iterations\n",
      "The result is 1.4142135623746899\n"
     ]
    }
   ],
   "source": [
    "def NewtonRaphson(f, df, x0, tolerance=1e-6, max_iterations=100):\n",
    "    for i in range(max_iterations):\n",
    "        x1 = x0 - (f(x0) / df(x0))\n",
    "        \n",
    "        print(f\"Iteration {i+1}: x = {x1}\")\n",
    "\n",
    "        if abs(x1 - x0) < tolerance:\n",
    "            print(f\"Converged to {x1} after {i+1} iterations\")\n",
    "            return x1\n",
    "\n",
    "        x0 = x1\n",
    "    print(\"Did not converge within max no of iterations\")\n",
    "    return None\n",
    "\n",
    "def function(x):\n",
    "    return x**2 - 2\n",
    "\n",
    "def derivative_f(x):\n",
    "    return 2 * x\n",
    "\n",
    "x0 = 1.0  # initial guess\n",
    "tolerance = 0.0001\n",
    "max_iterations = 100\n",
    "\n",
    "result=NewtonRaphson(function, derivative_f, x0, tolerance, max_iterations)\n",
    "print(f\"The result is {result}\")"
   ]
  },
  {
   "cell_type": "code",
   "execution_count": null,
   "id": "7c1bb874-dd5b-4843-8cc9-d1fc00ba51c4",
   "metadata": {},
   "outputs": [],
   "source": []
  }
 ],
 "metadata": {
  "kernelspec": {
   "display_name": "venv",
   "language": "python",
   "name": "python3"
  },
  "language_info": {
   "codemirror_mode": {
    "name": "ipython",
    "version": 3
   },
   "file_extension": ".py",
   "mimetype": "text/x-python",
   "name": "python",
   "nbconvert_exporter": "python",
   "pygments_lexer": "ipython3",
   "version": "3.13.5"
  }
 },
 "nbformat": 4,
 "nbformat_minor": 5
}
